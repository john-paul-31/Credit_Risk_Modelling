{
 "cells": [
  {
   "cell_type": "code",
   "execution_count": null,
   "id": "8b0734c3-dab0-48c7-8727-87863213db45",
   "metadata": {},
   "outputs": [],
   "source": [
    "#Impport Necessary libraries\n",
    "\n",
    "import pandas as pd\n",
    "import numpy as np"
   ]
  },
  {
   "cell_type": "code",
   "execution_count": null,
   "id": "a83db7e6-163f-40f4-b615-553ba13c7c6f",
   "metadata": {},
   "outputs": [],
   "source": [
    "master_df = pd.read_csv(r\"E:\\DSML Projects\\Credit Risk Modelling\\Data\\365\\Loan data 2007-2014\\loan_data_2007_2014.csv\")"
   ]
  },
  {
   "cell_type": "code",
   "execution_count": null,
   "id": "e76eb3e0-678a-4d51-9bfb-d51be244efda",
   "metadata": {},
   "outputs": [],
   "source": [
    "df = master_df.copy()"
   ]
  },
  {
   "cell_type": "code",
   "execution_count": null,
   "id": "6be911c0-6ef7-44c5-8b1a-66ce2903ef75",
   "metadata": {
    "tags": []
   },
   "outputs": [],
   "source": [
    "pd.options.display.max_columns = None #Display All Coluns in the Markdown\n",
    "df"
   ]
  },
  {
   "cell_type": "code",
   "execution_count": null,
   "id": "b24a5810-d72a-442e-9619-12080c88c763",
   "metadata": {
    "tags": []
   },
   "outputs": [],
   "source": [
    "df.head()"
   ]
  },
  {
   "cell_type": "code",
   "execution_count": null,
   "id": "37dda848-ec32-44b1-8f1f-8d508f9d496b",
   "metadata": {
    "tags": []
   },
   "outputs": [],
   "source": [
    "df.tail()"
   ]
  },
  {
   "cell_type": "code",
   "execution_count": null,
   "id": "07cc01ac-098f-44fc-81d5-40a0b410f6cb",
   "metadata": {},
   "outputs": [],
   "source": [
    "df.info()"
   ]
  },
  {
   "cell_type": "markdown",
   "id": "b353cbe0-b5ea-4351-8052-776b180acb84",
   "metadata": {},
   "source": [
    "### Processing \"emp_length\""
   ]
  },
  {
   "cell_type": "code",
   "execution_count": null,
   "id": "da6a55b0-89ac-4c3c-b1a6-ed91c822dc28",
   "metadata": {},
   "outputs": [],
   "source": [
    "df['emp_length'].unique()"
   ]
  },
  {
   "cell_type": "code",
   "execution_count": null,
   "id": "1ccd4ca7-bbaf-4368-b6ff-d750dbcbcbdd",
   "metadata": {},
   "outputs": [],
   "source": [
    "df['emp_length'].value_counts()"
   ]
  },
  {
   "cell_type": "code",
   "execution_count": null,
   "id": "bf3df024-bfa3-49d5-ae06-1a315dbc1b3b",
   "metadata": {},
   "outputs": [],
   "source": [
    "df['emp_length_int'] = df['emp_length'].str.replace('+ years', '')\n",
    "df['emp_length_int'] = df['emp_length_int'].str.replace('< 1 year', str(0))\n",
    "df['emp_length_int'] = df['emp_length_int'].str.replace('n/a',  str(0))\n",
    "df['emp_length_int'] = df['emp_length_int'].str.replace(' years', '')\n",
    "df['emp_length_int'] = df['emp_length_int'].str.replace(' year', '')\n",
    "# We store the preprocessed ‘employment length’ variable in a new variable called ‘employment length int’,\n",
    "# We assign the new ‘employment length int’ to be equal to the ‘employment length’ variable with the string ‘+ years’\n",
    "# replaced with nothing. Next, we replace the whole string ‘less than 1 year’ with the string ‘0’.\n",
    "# Then, we replace the ‘n/a’ string with the string ‘0’. Then, we replace the string ‘space years’ with nothing.\n",
    "# Finally, we replace the string ‘space year’ with nothing."
   ]
  },
  {
   "cell_type": "code",
   "execution_count": null,
   "id": "477e0599-3550-4ff7-83bb-9c8f6f1a7809",
   "metadata": {},
   "outputs": [],
   "source": [
    "type(df['emp_length_int'][0])\n",
    "# Checks the datatype of a single element of a column."
   ]
  },
  {
   "cell_type": "code",
   "execution_count": null,
   "id": "474d572d-ec93-41d9-9f96-21316ee13f81",
   "metadata": {},
   "outputs": [],
   "source": [
    "df['emp_length_int'] .value_counts()"
   ]
  },
  {
   "cell_type": "code",
   "execution_count": null,
   "id": "c836bffd-e1c1-4cb4-9764-8c9e0bff32be",
   "metadata": {},
   "outputs": [],
   "source": [
    "df['emp_length_int'] = pd.to_numeric(df['emp_length_int'])\n",
    "# Transforms the values to numeric."
   ]
  },
  {
   "cell_type": "code",
   "execution_count": null,
   "id": "36548f58-f965-42c8-9cb8-fd3d6eab1574",
   "metadata": {},
   "outputs": [],
   "source": [
    "type(df['emp_length_int'][0])\n",
    "# Checks the datatype of a single element of a column."
   ]
  },
  {
   "cell_type": "markdown",
   "id": "bac3fe95-ffd0-4b5c-8f4e-1d8a2547bb74",
   "metadata": {},
   "source": [
    "### Processing \"earliest_cr_line\""
   ]
  },
  {
   "cell_type": "code",
   "execution_count": null,
   "id": "180d9e55-7b86-4bbe-9538-f2a1bd4c1162",
   "metadata": {},
   "outputs": [],
   "source": [
    "df['earliest_cr_line'].head(5)\n",
    "# Displays a column."
   ]
  },
  {
   "cell_type": "code",
   "execution_count": null,
   "id": "ac77b494-5f9e-4eff-bd24-7260cfcb85e0",
   "metadata": {},
   "outputs": [],
   "source": [
    "df['earliest_cr_line_date'] = pd.to_datetime(df['earliest_cr_line'], format = '%b-%y')\n",
    "# Extracts the date and the time from a string variable that is in a given format."
   ]
  },
  {
   "cell_type": "code",
   "execution_count": null,
   "id": "a000e42c-bc9b-40b7-80b2-99e091f35c26",
   "metadata": {},
   "outputs": [],
   "source": [
    "type(df['earliest_cr_line_date'][0])\n",
    "# Checks the datatype of a single element of a column."
   ]
  },
  {
   "cell_type": "code",
   "execution_count": null,
   "id": "1e90aad6-a3aa-48af-8231-3c4c20decd77",
   "metadata": {},
   "outputs": [],
   "source": [
    "pd.to_datetime('2017-12-01') - df['earliest_cr_line_date']\n",
    "# Calculates the difference between two dates and times."
   ]
  },
  {
   "cell_type": "code",
   "execution_count": null,
   "id": "56188eee-45f5-4426-a99c-c9cd872f1a6b",
   "metadata": {},
   "outputs": [],
   "source": [
    "# Assume we are now in December 2017\n",
    "df['mths_since_earliest_cr_line'] = round(pd.to_numeric((pd.to_datetime('2017-12-01') - df['earliest_cr_line_date']) / np.timedelta64(1, 'M')))\n",
    "# We calculate the difference between two dates in months, turn it to numeric datatype and round it.\n",
    "# We save the result in a new variable."
   ]
  },
  {
   "cell_type": "code",
   "execution_count": null,
   "id": "5fb1345a-7cba-4138-a182-001d24c001c7",
   "metadata": {},
   "outputs": [],
   "source": [
    "df['mths_since_earliest_cr_line'].describe()\n",
    "# Shows some descriptive statisics for the values of a column.\n",
    "# Dates from 1969 and before are not being converted well, i.e., they have become 2069 and similar,\n",
    "# and negative differences are being calculated."
   ]
  },
  {
   "cell_type": "code",
   "execution_count": null,
   "id": "ce3cadfb-4c01-4912-8c8c-df800c6ec68a",
   "metadata": {},
   "outputs": [],
   "source": [
    "df.loc[: , ['earliest_cr_line', 'earliest_cr_line_date', 'mths_since_earliest_cr_line']][df['mths_since_earliest_cr_line'] < 0]\n",
    "# We take three columns from the dataframe. Then, we display them only for the rows where a variable has negative value.\n",
    "# There are 2303 strange negative values."
   ]
  },
  {
   "cell_type": "code",
   "execution_count": null,
   "id": "9203aaa1-21f6-4891-a4dc-4f766277e3ef",
   "metadata": {},
   "outputs": [],
   "source": [
    "df['mths_since_earliest_cr_line'][df['mths_since_earliest_cr_line'] < 0] = df['mths_since_earliest_cr_line'].max()\n",
    "# We set the rows that had negative differences to the maximum value."
   ]
  },
  {
   "cell_type": "code",
   "execution_count": null,
   "id": "dc837a82-a425-4472-88b0-2fa430152f7a",
   "metadata": {},
   "outputs": [],
   "source": [
    "min(df['mths_since_earliest_cr_line'])\n",
    "# Calculates and shows the minimum value of a column."
   ]
  },
  {
   "cell_type": "markdown",
   "id": "4a053462-07ed-46b2-a122-463671863ebf",
   "metadata": {
    "tags": []
   },
   "source": [
    "### Preprocessing \"issue\""
   ]
  },
  {
   "cell_type": "code",
   "execution_count": null,
   "id": "051138b5-554c-4f46-88bd-ea5b322b5153",
   "metadata": {},
   "outputs": [],
   "source": [
    "df[\"term\"].value_counts()"
   ]
  },
  {
   "cell_type": "code",
   "execution_count": null,
   "id": "290821c0-fd19-4302-9e41-c05feb5bfffb",
   "metadata": {},
   "outputs": [],
   "source": [
    "df[\"term_int\"] = df[\"term\"].str.replace('months', '')"
   ]
  },
  {
   "cell_type": "code",
   "execution_count": null,
   "id": "082624b3-ff0c-4c8c-a1c9-01a8b27e4d1b",
   "metadata": {},
   "outputs": [],
   "source": [
    "df['term_int'] = pd.to_numeric(df['term_int'])"
   ]
  },
  {
   "cell_type": "markdown",
   "id": "56ba2b53-d5c0-4d46-82df-ac398f336c66",
   "metadata": {},
   "source": [
    "### Preprocessing \"issue_d\""
   ]
  },
  {
   "cell_type": "code",
   "execution_count": null,
   "id": "ebd2ab6b-dc26-4819-93f7-55d3c43816e9",
   "metadata": {},
   "outputs": [],
   "source": [
    "df[\"issue_d\"].value_counts()"
   ]
  },
  {
   "cell_type": "code",
   "execution_count": null,
   "id": "3bd3bbea-eb10-4834-9a5d-428e9fd22e43",
   "metadata": {},
   "outputs": [],
   "source": [
    "df[\"issue_date\"] = df['issue_d'] = pd.to_datetime(df['issue_d'], format = '%b-%y')"
   ]
  },
  {
   "cell_type": "code",
   "execution_count": null,
   "id": "ceb0740b-ca23-4d96-9d6d-56a25abd783d",
   "metadata": {},
   "outputs": [],
   "source": [
    "df[\"mths_since_issue_d\"] =  round(pd.to_numeric((pd.to_datetime('2017-12-01') - df['issue_date']) / np.timedelta64(1, 'M')))"
   ]
  },
  {
   "cell_type": "code",
   "execution_count": null,
   "id": "e0fd7e36-0e87-48e4-b6d6-17ce4527956a",
   "metadata": {},
   "outputs": [],
   "source": []
  },
  {
   "cell_type": "markdown",
   "id": "bc9eddee-7c94-46fd-aa1b-45415650b50e",
   "metadata": {},
   "source": [
    "## Preprocessing Discrete Variables"
   ]
  },
  {
   "cell_type": "markdown",
   "id": "07a65aa7-8eda-4495-bacd-079b9e1de999",
   "metadata": {},
   "source": [
    "### One Hot Encoding \"grade\" "
   ]
  },
  {
   "cell_type": "code",
   "execution_count": null,
   "id": "f51015c3-05b1-4fc1-a4aa-5ea4b4e9d906",
   "metadata": {},
   "outputs": [],
   "source": [
    "pd.get_dummies(df['grade'],prefix = 'grade', prefix_sep = ':').astype(int)"
   ]
  },
  {
   "cell_type": "code",
   "execution_count": null,
   "id": "29f53c55-e703-46be-a907-c4b54eb985c9",
   "metadata": {},
   "outputs": [],
   "source": [
    "#OHE All the Categorical variables\n",
    "df_dummies = [pd.get_dummies(df['grade'],prefix = 'grade', prefix_sep = ':').astype(int),\n",
    "              pd.get_dummies(df['sub_grade'], prefix = 'sub_grade', prefix_sep = ':').astype(int),\n",
    "              pd.get_dummies(df['home_ownership'], prefix = 'home_ownership', prefix_sep = ':').astype(int),\n",
    "              pd.get_dummies(df['verification_status'], prefix = 'verification_status', prefix_sep = ':').astype(int),\n",
    "              pd.get_dummies(df['loan_status'], prefix = 'loan_status', prefix_sep = ':').astype(int),\n",
    "              pd.get_dummies(df['purpose'], prefix = 'purpose', prefix_sep = ':').astype(int),\n",
    "              pd.get_dummies(df['addr_state'], prefix = 'addr_state', prefix_sep = ':').astype(int),\n",
    "              pd.get_dummies(df['initial_list_status'], prefix = 'initial_list_status', prefix_sep = ':').astype(int)\n",
    "             ]"
   ]
  },
  {
   "cell_type": "code",
   "execution_count": null,
   "id": "fac9301c-f2fd-4d5c-9259-4956a990154a",
   "metadata": {},
   "outputs": [],
   "source": [
    "df_dummies = pd.concat(df_dummies, axis = 1)\n",
    "df_dummies\n",
    "# We concatenate the dummy variables and this turns them into a dataframe."
   ]
  },
  {
   "cell_type": "code",
   "execution_count": null,
   "id": "f4bfe56b-b4b7-4b15-8f99-69dbdb89541a",
   "metadata": {},
   "outputs": [],
   "source": [
    "type(df_dummies)"
   ]
  },
  {
   "cell_type": "code",
   "execution_count": null,
   "id": "73ad2d30-fefc-4623-98bf-bf1b4d3a2bdd",
   "metadata": {},
   "outputs": [],
   "source": [
    "df = pd.concat([df, df_dummies], axis = 1)"
   ]
  },
  {
   "cell_type": "code",
   "execution_count": null,
   "id": "cff9a489-34dc-4e1a-8c4b-cad4102ec4a8",
   "metadata": {},
   "outputs": [],
   "source": [
    "df.info()"
   ]
  },
  {
   "cell_type": "code",
   "execution_count": null,
   "id": "7836f95a-5f4a-458b-9017-c8767421938d",
   "metadata": {},
   "outputs": [],
   "source": [
    "df.columns.values"
   ]
  },
  {
   "cell_type": "markdown",
   "id": "57ef613c-ffcf-480b-a7e1-3a8092aa6b95",
   "metadata": {
    "tags": []
   },
   "source": [
    "## Missing Value Treatment"
   ]
  },
  {
   "cell_type": "code",
   "execution_count": null,
   "id": "7f4dd932-ea57-4605-9b63-e0561f776105",
   "metadata": {},
   "outputs": [],
   "source": [
    "df.isnull()\n",
    "# It returns 'False' if a value is not missing and 'True' if a value is missing, for each value in a dataframe."
   ]
  },
  {
   "cell_type": "code",
   "execution_count": null,
   "id": "5333077a-5332-475e-b4da-ec1c690f8d5c",
   "metadata": {},
   "outputs": [],
   "source": [
    "pd.options.display.max_rows = None\n",
    "# Sets the pandas dataframe options to display all columns/ rows.\n",
    "df.isnull().sum()"
   ]
  },
  {
   "cell_type": "code",
   "execution_count": null,
   "id": "5e444d6f-1dd1-4c8e-b0b7-e7757e15f3e3",
   "metadata": {},
   "outputs": [],
   "source": [
    "pd.options.display.max_rows = 100\n",
    "# Sets the pandas dataframe options to display 100 columns/ rows."
   ]
  },
  {
   "cell_type": "code",
   "execution_count": null,
   "id": "71d2af6a-0f24-4536-a324-ed5bbd7ebd60",
   "metadata": {},
   "outputs": [],
   "source": [
    "# 'Total revolving high credit/ credit limit', so it makes sense that the missing values are equal to funded_amnt.\n",
    "df['total_rev_hi_lim'].fillna(df['funded_amnt'], inplace=True)\n",
    "# We fill the missing values with the values of another variable."
   ]
  },
  {
   "cell_type": "code",
   "execution_count": null,
   "id": "c0c053e7-0eb9-4154-ac05-a0cd488e1dec",
   "metadata": {},
   "outputs": [],
   "source": [
    "df['annual_inc'].isnull().sum()"
   ]
  },
  {
   "cell_type": "code",
   "execution_count": null,
   "id": "6eb98435-8e17-49ec-8d58-f908ca18e5fa",
   "metadata": {},
   "outputs": [],
   "source": [
    "df['annual_inc'].fillna(df['annual_inc'].mean(), inplace=True)"
   ]
  },
  {
   "cell_type": "code",
   "execution_count": null,
   "id": "579847af-5a2d-4d0c-a604-3fdc889a190f",
   "metadata": {},
   "outputs": [],
   "source": [
    "df['mths_since_earliest_cr_line'].fillna(0, inplace=True)\n",
    "df['acc_now_delinq'].fillna(0, inplace=True)\n",
    "df['total_acc'].fillna(0, inplace=True)\n",
    "df['pub_rec'].fillna(0, inplace=True)\n",
    "df['open_acc'].fillna(0, inplace=True)"
   ]
  },
  {
   "cell_type": "code",
   "execution_count": null,
   "id": "29477a55-9860-442e-9d3f-807acb57dc14",
   "metadata": {},
   "outputs": [],
   "source": []
  },
  {
   "cell_type": "code",
   "execution_count": null,
   "id": "693dd4cd-7755-4503-85ff-32ee13410275",
   "metadata": {},
   "outputs": [],
   "source": []
  },
  {
   "cell_type": "code",
   "execution_count": null,
   "id": "853790c0-54d6-43fa-a430-9de1af8fe871",
   "metadata": {},
   "outputs": [],
   "source": []
  },
  {
   "cell_type": "code",
   "execution_count": null,
   "id": "4006b4a7-b884-4b09-b526-ca1cb1acae45",
   "metadata": {},
   "outputs": [],
   "source": []
  },
  {
   "cell_type": "code",
   "execution_count": null,
   "id": "07e8bb6d-da0c-4286-9dd9-ebec0ec31e08",
   "metadata": {},
   "outputs": [],
   "source": []
  },
  {
   "cell_type": "code",
   "execution_count": null,
   "id": "5fd740d1-d72d-4ddb-8e90-c54781d62698",
   "metadata": {},
   "outputs": [],
   "source": []
  },
  {
   "cell_type": "code",
   "execution_count": null,
   "id": "66b12549-03f5-4bf0-a102-1164292c7031",
   "metadata": {},
   "outputs": [],
   "source": []
  },
  {
   "cell_type": "code",
   "execution_count": null,
   "id": "f145bdc7-6dd9-4863-a8f5-06102064e08c",
   "metadata": {},
   "outputs": [],
   "source": []
  },
  {
   "cell_type": "code",
   "execution_count": null,
   "id": "12801d4d-5469-4898-99b5-44565340a5d4",
   "metadata": {},
   "outputs": [],
   "source": []
  },
  {
   "cell_type": "code",
   "execution_count": null,
   "id": "3674bf65-d582-43bd-95c1-28df85be0ba1",
   "metadata": {},
   "outputs": [],
   "source": []
  },
  {
   "cell_type": "code",
   "execution_count": null,
   "id": "23183525-0e09-4942-9047-4ff11c7e38d2",
   "metadata": {},
   "outputs": [],
   "source": []
  },
  {
   "cell_type": "code",
   "execution_count": null,
   "id": "3e67ff0d-19c1-4ad0-b5c9-52c2a8a142ab",
   "metadata": {},
   "outputs": [],
   "source": []
  },
  {
   "cell_type": "code",
   "execution_count": null,
   "id": "428b7ccb-8097-4371-b03f-6dc48d68eed6",
   "metadata": {},
   "outputs": [],
   "source": []
  },
  {
   "cell_type": "code",
   "execution_count": null,
   "id": "5fd170c8-532c-474c-8796-323edf7f0758",
   "metadata": {},
   "outputs": [],
   "source": []
  }
 ],
 "metadata": {
  "kernelspec": {
   "display_name": "creditrisk",
   "language": "python",
   "name": "creditrisk"
  },
  "language_info": {
   "codemirror_mode": {
    "name": "ipython",
    "version": 3
   },
   "file_extension": ".py",
   "mimetype": "text/x-python",
   "name": "python",
   "nbconvert_exporter": "python",
   "pygments_lexer": "ipython3",
   "version": "3.11.3"
  }
 },
 "nbformat": 4,
 "nbformat_minor": 5
}
